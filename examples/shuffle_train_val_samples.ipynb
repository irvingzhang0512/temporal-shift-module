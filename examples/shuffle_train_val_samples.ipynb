{
 "nbformat": 4,
 "nbformat_minor": 2,
 "metadata": {
  "language_info": {
   "name": "python",
   "codemirror_mode": {
    "name": "ipython",
    "version": 3
   },
   "version": "3.7.7-final"
  },
  "orig_nbformat": 2,
  "file_extension": ".py",
  "mimetype": "text/x-python",
  "name": "python",
  "npconvert_exporter": "python",
  "pygments_lexer": "ipython3",
  "version": 3,
  "kernelspec": {
   "name": "python37764bitzyypytorch13detectron2conda1c0c5856074d413db80dd59f664bc4df",
   "display_name": "Python 3.7.7 64-bit ('zyy_pytorch1.3_detectron2': conda)"
  }
 },
 "cells": [
  {
   "cell_type": "code",
   "execution_count": 1,
   "metadata": {},
   "outputs": [],
   "source": [
    "import pandas as pd\n",
    "import numpy as np"
   ]
  },
  {
   "cell_type": "code",
   "execution_count": 2,
   "metadata": {},
   "outputs": [],
   "source": [
    "t = open(\"/ssd4/zhangyiyang/data/jester-v1/train_videofolder.txt\", \"r\")\n",
    "v = open(\"/ssd4/zhangyiyang/data/jester-v1/val_videofolder.txt\", \"r\")\n",
    "total_f = open(\"/ssd4/zhangyiyang/data/jester-v1/total_videofolder.txt\", \"w\")\n",
    "total_f.writelines(t.readlines())\n",
    "total_f.write(\"\\n\")\n",
    "total_f.writelines(v.readlines())\n",
    "total_f.write(\"\\n\")\n",
    "total_f.close()\n",
    "t.close()\n",
    "v.close()"
   ]
  },
  {
   "cell_type": "code",
   "execution_count": 3,
   "metadata": {},
   "outputs": [],
   "source": [
    "val_num = 20000\n",
    "t = open(\"/ssd4/zhangyiyang/data/jester-v1/new_train_videofolder.txt\", \"w\")\n",
    "v = open(\"/ssd4/zhangyiyang/data/jester-v1/new_val_videofolder.txt\", \"w\")\n",
    "total_f = open(\"/ssd4/zhangyiyang/data/jester-v1/total_videofolder.txt\", \"r\")\n",
    "lines = total_f.readlines()\n",
    "lines = np.array(lines)\n",
    "np.random.shuffle(lines)\n",
    "t.writelines(lines[:-val_num])\n",
    "v.writelines(lines[-val_num:])\n",
    "total_f.close()\n",
    "t.close()\n",
    "v.close()"
   ]
  },
  {
   "cell_type": "code",
   "execution_count": null,
   "metadata": {},
   "outputs": [],
   "source": []
  }
 ]
}