{
 "cells": [
  {
   "cell_type": "code",
   "execution_count": null,
   "metadata": {},
   "outputs": [],
   "source": [
    "# # 实现的功能\n",
    "# 1. 合并Jester数据集的train/val，合并为一个文件。\n",
    "# 2. 查看Jester各类样本的分布。\n",
    "# 3. 将Jester的数据转换为AR可用的形式。即，选择一些需要的类，转换为对应的标签。\n",
    "# 4. 查看AR样本分布"
   ]
  },
  {
   "cell_type": "code",
   "execution_count": null,
   "metadata": {},
   "outputs": [],
   "source": [
    "# # 功能一：合并Jester数据集的train/val，合并为一个文件。\n",
    "# jester_train = \"/ssd4/zhangyiyang/data/jester-v1/train_videofolder.txt\"\n",
    "# jester_val = \"/ssd4/zhangyiyang/data/jester-v1/val_videofolder.txt\"\n",
    "# jester_total = \"/ssd4/zhangyiyang/data/jester-v1/total_samples.txt\"\n",
    "# total = open(jester_total, \"w\")\n",
    "# with open(jester_train, \"r\") as f:\n",
    "#     total.writelines(f.readlines())\n",
    "#     total.write(\"\\n\")\n",
    "# with open(jester_val, \"r\") as f:\n",
    "#     total.writelines(f.readlines())\n",
    "#     total.write(\"\\n\")\n",
    "# total.close()"
   ]
  },
  {
   "cell_type": "code",
   "execution_count": null,
   "metadata": {},
   "outputs": [],
   "source": [
    "# 功能二：查看Jester样本分布\n",
    "jester_total = \"/ssd4/zhangyiyang/data/jester-v1/total_samples.txt\"\n",
    "with open(jester_total, \"r\") as f:\n",
    "    jester_samples = [l.strip() for l in f.readlines()]\n",
    "jester_catigories = [\n",
    "    \"Doing other things\",  # 0\n",
    "    \"Drumming Fingers\",  # 1\n",
    "    \"No gesture\",  # 2\n",
    "    \"Pulling Hand In\",  # 3\n",
    "    \"Pulling Two Fingers In\",  # 4\n",
    "    \"Pushing Hand Away\",  # 5\n",
    "    \"Pushing Two Fingers Away\",  # 6\n",
    "    \"Rolling Hand Backward\",  # 7\n",
    "    \"Rolling Hand Forward\",  # 8\n",
    "    \"Shaking Hand\",  # 9\n",
    "    \"Sliding Two Fingers Down\",  # 10\n",
    "    \"Sliding Two Fingers Left\",  # 11\n",
    "    \"Sliding Two Fingers Right\",  # 12\n",
    "    \"Sliding Two Fingers Up\",  # 13\n",
    "    \"Stop Sign\",  # 14\n",
    "    \"Swiping Down\",  # 15\n",
    "    \"Swiping Left\",  # 16\n",
    "    \"Swiping Right\",  # 17\n",
    "    \"Swiping Up\",  # 18\n",
    "    \"Thumb Down\",  # 19\n",
    "    \"Thumb Up\",  # 20\n",
    "    \"Turning Hand Clockwise\",  # 21\n",
    "    \"Turning Hand Counterclockwise\",  # 22\n",
    "    \"Zooming In With Full Hand\",  # 23\n",
    "    \"Zooming In With Two Fingers\",  # 24\n",
    "    \"Zooming Out With Full Hand\",  # 25\n",
    "    \"Zooming Out With Two Fingers\"  # 26\n",
    "]\n",
    "category_id_to_cnt = {str(i): 0 for i in range(27)}\n",
    "for s in jester_samples:\n",
    "    splits = s.split(\" \")\n",
    "    category_id_to_cnt[splits[2]] += 1\n",
    "for i in range(27):\n",
    "    print(jester_catigories[i], category_id_to_cnt[str(i)])"
   ]
  },
  {
   "cell_type": "code",
   "execution_count": null,
   "metadata": {},
   "outputs": [],
   "source": [
    "# 功能三：将Jester的数据转换为AR可用的形式。\n",
    "pairs = [\n",
    "    ([2], 0), # nothing\n",
    "    ([25, 26], 2),  # close\n",
    "    ([0, 1, 3, 4, 5, 6, 7, 8, 9, 10, 11, 12, 13, 14, 15, 16, 17, 18, 21, 22], 1),  # other\n",
    "]\n",
    "jester_total = \"/ssd4/zhangyiyang/data/AR/label/type2_total.txt\"\n",
    "type2_total_samples = []\n",
    "for cur_pair in pairs:\n",
    "    cur_ids, cur_label = cur_pair\n",
    "    for sample in jester_samples:\n",
    "        splits = sample.split(\" \")\n",
    "        if int(splits[2]) in cur_ids:\n",
    "            type2_total_samples.append(\" \".join([splits[0], splits[1], str(cur_label)]))\n",
    "with open(jester_total, \"w\") as f:\n",
    "    f.writelines(\"\\n\".join(type2_total_samples))\n"
   ]
  },
  {
   "cell_type": "code",
   "execution_count": null,
   "metadata": {},
   "outputs": [],
   "source": [
    "# 功能四：查看AR样本分布\n",
    "ar_total = \"/ssd4/zhangyiyang/data/AR/label/flip_total.txt\"\n",
    "with open(ar_total, \"r\") as f:\n",
    "    ar_samples = [l.strip() for l in f.readlines()]\n",
    "ar_categories = [\n",
    "    \"nothing\",  # 0\n",
    "    \"other\",  # 1\n",
    "    \"close\",  # 2\n",
    "    \"left\",  # 3\n",
    "    \"right\",  # 4\n",
    "    \"ok\",  # 5\n",
    "]\n",
    "ar_category_id_to_cnt = {str(i): 0 for i in range(len(ar_categories))}\n",
    "for s in ar_samples:\n",
    "    splits = s.split(\" \")\n",
    "    ar_category_id_to_cnt[splits[2]] += 1\n",
    "for i in range(len(ar_categories)):\n",
    "    print(ar_categories[i], ar_category_id_to_cnt[str(i)])"
   ]
  },
  {
   "cell_type": "code",
   "execution_count": null,
   "metadata": {},
   "outputs": [],
   "source": []
  }
 ],
 "metadata": {
  "language_info": {
   "codemirror_mode": {
    "name": "ipython",
    "version": 3
   },
   "file_extension": ".py",
   "mimetype": "text/x-python",
   "name": "python",
   "nbconvert_exporter": "python",
   "pygments_lexer": "ipython3",
   "version": "3.7.7-final"
  },
  "orig_nbformat": 2,
  "kernelspec": {
   "name": "python37764bitzyypytorch13tsmconda822af611ca87409793257602a33a16f5",
   "display_name": "Python 3.7.7 64-bit ('zyy_pytorch1.3_tsm': conda)"
  }
 },
 "nbformat": 4,
 "nbformat_minor": 2
}