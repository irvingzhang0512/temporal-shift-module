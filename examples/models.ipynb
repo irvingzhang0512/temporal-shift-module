{
 "cells": [
  {
   "cell_type": "code",
   "execution_count": 1,
   "metadata": {},
   "outputs": [],
   "source": [
    "import sys\n",
    "import torch\n",
    "sys.path.append(\"/hdd02/zhangyiyang/temporal-shift-module\")\n",
    "from tsm.models import TSN, resnet50, MobileNetV2"
   ]
  },
  {
   "cell_type": "code",
   "execution_count": 4,
   "metadata": {},
   "outputs": [
    {
     "output_type": "stream",
     "name": "stdout",
     "text": "\n                    Initializing TSN with base model: resnet50.\n                    TSN Configurations:\n                        input_modality:     RGB\n                        num_segments:       8\n                        new_length:         1\n                        consensus_module:   avg\n                        dropout_ratio:      0.8\n                        img_feature_dim:    256\n            \n"
    }
   ],
   "source": [
    "resnet_offline_model = TSN(\n",
    "    num_classes=27,\n",
    "    num_segments=8,\n",
    "    modality='RGB',\n",
    "    base_model='resnet50', \n",
    "    new_length=None,\n",
    "    consensus_type='avg', \n",
    "    before_softmax=False,\n",
    "    dropout=0.8, \n",
    "    img_feature_dim=256,\n",
    "    crop_num=1, \n",
    "    partial_bn=False,\n",
    "    print_spec=True, \n",
    "    pretrain=None,\n",
    "    is_shift=True, \n",
    "    shift_div=8,\n",
    "    shift_place='blockres', \n",
    "    fc_lr5=False,\n",
    "    temporal_pool=False, \n",
    "    non_local=False,\n",
    "    uni_direction=False,\n",
    ")\n",
    "resnet_offline_model = torch.nn.DataParallel(resnet_offline_model).cuda()"
   ]
  },
  {
   "cell_type": "code",
   "execution_count": 5,
   "metadata": {},
   "outputs": [],
   "source": [
    "resnet_online_model = resnet50()"
   ]
  },
  {
   "cell_type": "code",
   "execution_count": 6,
   "metadata": {},
   "outputs": [
    {
     "output_type": "execute_result",
     "data": {
      "text/plain": "['module.base_model.conv1.weight',\n 'module.base_model.bn1.weight',\n 'module.base_model.bn1.bias',\n 'module.base_model.bn1.running_mean',\n 'module.base_model.bn1.running_var',\n 'module.base_model.bn1.num_batches_tracked',\n 'module.base_model.layer1.0.conv1.net.weight',\n 'module.base_model.layer1.0.bn1.weight',\n 'module.base_model.layer1.0.bn1.bias',\n 'module.base_model.layer1.0.bn1.running_mean',\n 'module.base_model.layer1.0.bn1.running_var',\n 'module.base_model.layer1.0.bn1.num_batches_tracked',\n 'module.base_model.layer1.0.conv2.weight',\n 'module.base_model.layer1.0.bn2.weight',\n 'module.base_model.layer1.0.bn2.bias',\n 'module.base_model.layer1.0.bn2.running_mean',\n 'module.base_model.layer1.0.bn2.running_var',\n 'module.base_model.layer1.0.bn2.num_batches_tracked',\n 'module.base_model.layer1.0.conv3.weight',\n 'module.base_model.layer1.0.bn3.weight',\n 'module.base_model.layer1.0.bn3.bias',\n 'module.base_model.layer1.0.bn3.running_mean',\n 'module.base_model.layer1.0.bn3.running_var',\n 'module.base_model.layer1.0.bn3.num_batches_tracked',\n 'module.base_model.layer1.0.downsample.0.weight',\n 'module.base_model.layer1.0.downsample.1.weight',\n 'module.base_model.layer1.0.downsample.1.bias',\n 'module.base_model.layer1.0.downsample.1.running_mean',\n 'module.base_model.layer1.0.downsample.1.running_var',\n 'module.base_model.layer1.0.downsample.1.num_batches_tracked',\n 'module.base_model.layer1.1.conv1.net.weight',\n 'module.base_model.layer1.1.bn1.weight',\n 'module.base_model.layer1.1.bn1.bias',\n 'module.base_model.layer1.1.bn1.running_mean',\n 'module.base_model.layer1.1.bn1.running_var',\n 'module.base_model.layer1.1.bn1.num_batches_tracked',\n 'module.base_model.layer1.1.conv2.weight',\n 'module.base_model.layer1.1.bn2.weight',\n 'module.base_model.layer1.1.bn2.bias',\n 'module.base_model.layer1.1.bn2.running_mean',\n 'module.base_model.layer1.1.bn2.running_var',\n 'module.base_model.layer1.1.bn2.num_batches_tracked',\n 'module.base_model.layer1.1.conv3.weight',\n 'module.base_model.layer1.1.bn3.weight',\n 'module.base_model.layer1.1.bn3.bias',\n 'module.base_model.layer1.1.bn3.running_mean',\n 'module.base_model.layer1.1.bn3.running_var',\n 'module.base_model.layer1.1.bn3.num_batches_tracked',\n 'module.base_model.layer1.2.conv1.net.weight',\n 'module.base_model.layer1.2.bn1.weight',\n 'module.base_model.layer1.2.bn1.bias',\n 'module.base_model.layer1.2.bn1.running_mean',\n 'module.base_model.layer1.2.bn1.running_var',\n 'module.base_model.layer1.2.bn1.num_batches_tracked',\n 'module.base_model.layer1.2.conv2.weight',\n 'module.base_model.layer1.2.bn2.weight',\n 'module.base_model.layer1.2.bn2.bias',\n 'module.base_model.layer1.2.bn2.running_mean',\n 'module.base_model.layer1.2.bn2.running_var',\n 'module.base_model.layer1.2.bn2.num_batches_tracked',\n 'module.base_model.layer1.2.conv3.weight',\n 'module.base_model.layer1.2.bn3.weight',\n 'module.base_model.layer1.2.bn3.bias',\n 'module.base_model.layer1.2.bn3.running_mean',\n 'module.base_model.layer1.2.bn3.running_var',\n 'module.base_model.layer1.2.bn3.num_batches_tracked',\n 'module.base_model.layer2.0.conv1.net.weight',\n 'module.base_model.layer2.0.bn1.weight',\n 'module.base_model.layer2.0.bn1.bias',\n 'module.base_model.layer2.0.bn1.running_mean',\n 'module.base_model.layer2.0.bn1.running_var',\n 'module.base_model.layer2.0.bn1.num_batches_tracked',\n 'module.base_model.layer2.0.conv2.weight',\n 'module.base_model.layer2.0.bn2.weight',\n 'module.base_model.layer2.0.bn2.bias',\n 'module.base_model.layer2.0.bn2.running_mean',\n 'module.base_model.layer2.0.bn2.running_var',\n 'module.base_model.layer2.0.bn2.num_batches_tracked',\n 'module.base_model.layer2.0.conv3.weight',\n 'module.base_model.layer2.0.bn3.weight',\n 'module.base_model.layer2.0.bn3.bias',\n 'module.base_model.layer2.0.bn3.running_mean',\n 'module.base_model.layer2.0.bn3.running_var',\n 'module.base_model.layer2.0.bn3.num_batches_tracked',\n 'module.base_model.layer2.0.downsample.0.weight',\n 'module.base_model.layer2.0.downsample.1.weight',\n 'module.base_model.layer2.0.downsample.1.bias',\n 'module.base_model.layer2.0.downsample.1.running_mean',\n 'module.base_model.layer2.0.downsample.1.running_var',\n 'module.base_model.layer2.0.downsample.1.num_batches_tracked',\n 'module.base_model.layer2.1.conv1.net.weight',\n 'module.base_model.layer2.1.bn1.weight',\n 'module.base_model.layer2.1.bn1.bias',\n 'module.base_model.layer2.1.bn1.running_mean',\n 'module.base_model.layer2.1.bn1.running_var',\n 'module.base_model.layer2.1.bn1.num_batches_tracked',\n 'module.base_model.layer2.1.conv2.weight',\n 'module.base_model.layer2.1.bn2.weight',\n 'module.base_model.layer2.1.bn2.bias',\n 'module.base_model.layer2.1.bn2.running_mean',\n 'module.base_model.layer2.1.bn2.running_var',\n 'module.base_model.layer2.1.bn2.num_batches_tracked',\n 'module.base_model.layer2.1.conv3.weight',\n 'module.base_model.layer2.1.bn3.weight',\n 'module.base_model.layer2.1.bn3.bias',\n 'module.base_model.layer2.1.bn3.running_mean',\n 'module.base_model.layer2.1.bn3.running_var',\n 'module.base_model.layer2.1.bn3.num_batches_tracked',\n 'module.base_model.layer2.2.conv1.net.weight',\n 'module.base_model.layer2.2.bn1.weight',\n 'module.base_model.layer2.2.bn1.bias',\n 'module.base_model.layer2.2.bn1.running_mean',\n 'module.base_model.layer2.2.bn1.running_var',\n 'module.base_model.layer2.2.bn1.num_batches_tracked',\n 'module.base_model.layer2.2.conv2.weight',\n 'module.base_model.layer2.2.bn2.weight',\n 'module.base_model.layer2.2.bn2.bias',\n 'module.base_model.layer2.2.bn2.running_mean',\n 'module.base_model.layer2.2.bn2.running_var',\n 'module.base_model.layer2.2.bn2.num_batches_tracked',\n 'module.base_model.layer2.2.conv3.weight',\n 'module.base_model.layer2.2.bn3.weight',\n 'module.base_model.layer2.2.bn3.bias',\n 'module.base_model.layer2.2.bn3.running_mean',\n 'module.base_model.layer2.2.bn3.running_var',\n 'module.base_model.layer2.2.bn3.num_batches_tracked',\n 'module.base_model.layer2.3.conv1.net.weight',\n 'module.base_model.layer2.3.bn1.weight',\n 'module.base_model.layer2.3.bn1.bias',\n 'module.base_model.layer2.3.bn1.running_mean',\n 'module.base_model.layer2.3.bn1.running_var',\n 'module.base_model.layer2.3.bn1.num_batches_tracked',\n 'module.base_model.layer2.3.conv2.weight',\n 'module.base_model.layer2.3.bn2.weight',\n 'module.base_model.layer2.3.bn2.bias',\n 'module.base_model.layer2.3.bn2.running_mean',\n 'module.base_model.layer2.3.bn2.running_var',\n 'module.base_model.layer2.3.bn2.num_batches_tracked',\n 'module.base_model.layer2.3.conv3.weight',\n 'module.base_model.layer2.3.bn3.weight',\n 'module.base_model.layer2.3.bn3.bias',\n 'module.base_model.layer2.3.bn3.running_mean',\n 'module.base_model.layer2.3.bn3.running_var',\n 'module.base_model.layer2.3.bn3.num_batches_tracked',\n 'module.base_model.layer3.0.conv1.net.weight',\n 'module.base_model.layer3.0.bn1.weight',\n 'module.base_model.layer3.0.bn1.bias',\n 'module.base_model.layer3.0.bn1.running_mean',\n 'module.base_model.layer3.0.bn1.running_var',\n 'module.base_model.layer3.0.bn1.num_batches_tracked',\n 'module.base_model.layer3.0.conv2.weight',\n 'module.base_model.layer3.0.bn2.weight',\n 'module.base_model.layer3.0.bn2.bias',\n 'module.base_model.layer3.0.bn2.running_mean',\n 'module.base_model.layer3.0.bn2.running_var',\n 'module.base_model.layer3.0.bn2.num_batches_tracked',\n 'module.base_model.layer3.0.conv3.weight',\n 'module.base_model.layer3.0.bn3.weight',\n 'module.base_model.layer3.0.bn3.bias',\n 'module.base_model.layer3.0.bn3.running_mean',\n 'module.base_model.layer3.0.bn3.running_var',\n 'module.base_model.layer3.0.bn3.num_batches_tracked',\n 'module.base_model.layer3.0.downsample.0.weight',\n 'module.base_model.layer3.0.downsample.1.weight',\n 'module.base_model.layer3.0.downsample.1.bias',\n 'module.base_model.layer3.0.downsample.1.running_mean',\n 'module.base_model.layer3.0.downsample.1.running_var',\n 'module.base_model.layer3.0.downsample.1.num_batches_tracked',\n 'module.base_model.layer3.1.conv1.net.weight',\n 'module.base_model.layer3.1.bn1.weight',\n 'module.base_model.layer3.1.bn1.bias',\n 'module.base_model.layer3.1.bn1.running_mean',\n 'module.base_model.layer3.1.bn1.running_var',\n 'module.base_model.layer3.1.bn1.num_batches_tracked',\n 'module.base_model.layer3.1.conv2.weight',\n 'module.base_model.layer3.1.bn2.weight',\n 'module.base_model.layer3.1.bn2.bias',\n 'module.base_model.layer3.1.bn2.running_mean',\n 'module.base_model.layer3.1.bn2.running_var',\n 'module.base_model.layer3.1.bn2.num_batches_tracked',\n 'module.base_model.layer3.1.conv3.weight',\n 'module.base_model.layer3.1.bn3.weight',\n 'module.base_model.layer3.1.bn3.bias',\n 'module.base_model.layer3.1.bn3.running_mean',\n 'module.base_model.layer3.1.bn3.running_var',\n 'module.base_model.layer3.1.bn3.num_batches_tracked',\n 'module.base_model.layer3.2.conv1.net.weight',\n 'module.base_model.layer3.2.bn1.weight',\n 'module.base_model.layer3.2.bn1.bias',\n 'module.base_model.layer3.2.bn1.running_mean',\n 'module.base_model.layer3.2.bn1.running_var',\n 'module.base_model.layer3.2.bn1.num_batches_tracked',\n 'module.base_model.layer3.2.conv2.weight',\n 'module.base_model.layer3.2.bn2.weight',\n 'module.base_model.layer3.2.bn2.bias',\n 'module.base_model.layer3.2.bn2.running_mean',\n 'module.base_model.layer3.2.bn2.running_var',\n 'module.base_model.layer3.2.bn2.num_batches_tracked',\n 'module.base_model.layer3.2.conv3.weight',\n 'module.base_model.layer3.2.bn3.weight',\n 'module.base_model.layer3.2.bn3.bias',\n 'module.base_model.layer3.2.bn3.running_mean',\n 'module.base_model.layer3.2.bn3.running_var',\n 'module.base_model.layer3.2.bn3.num_batches_tracked',\n 'module.base_model.layer3.3.conv1.net.weight',\n 'module.base_model.layer3.3.bn1.weight',\n 'module.base_model.layer3.3.bn1.bias',\n 'module.base_model.layer3.3.bn1.running_mean',\n 'module.base_model.layer3.3.bn1.running_var',\n 'module.base_model.layer3.3.bn1.num_batches_tracked',\n 'module.base_model.layer3.3.conv2.weight',\n 'module.base_model.layer3.3.bn2.weight',\n 'module.base_model.layer3.3.bn2.bias',\n 'module.base_model.layer3.3.bn2.running_mean',\n 'module.base_model.layer3.3.bn2.running_var',\n 'module.base_model.layer3.3.bn2.num_batches_tracked',\n 'module.base_model.layer3.3.conv3.weight',\n 'module.base_model.layer3.3.bn3.weight',\n 'module.base_model.layer3.3.bn3.bias',\n 'module.base_model.layer3.3.bn3.running_mean',\n 'module.base_model.layer3.3.bn3.running_var',\n 'module.base_model.layer3.3.bn3.num_batches_tracked',\n 'module.base_model.layer3.4.conv1.net.weight',\n 'module.base_model.layer3.4.bn1.weight',\n 'module.base_model.layer3.4.bn1.bias',\n 'module.base_model.layer3.4.bn1.running_mean',\n 'module.base_model.layer3.4.bn1.running_var',\n 'module.base_model.layer3.4.bn1.num_batches_tracked',\n 'module.base_model.layer3.4.conv2.weight',\n 'module.base_model.layer3.4.bn2.weight',\n 'module.base_model.layer3.4.bn2.bias',\n 'module.base_model.layer3.4.bn2.running_mean',\n 'module.base_model.layer3.4.bn2.running_var',\n 'module.base_model.layer3.4.bn2.num_batches_tracked',\n 'module.base_model.layer3.4.conv3.weight',\n 'module.base_model.layer3.4.bn3.weight',\n 'module.base_model.layer3.4.bn3.bias',\n 'module.base_model.layer3.4.bn3.running_mean',\n 'module.base_model.layer3.4.bn3.running_var',\n 'module.base_model.layer3.4.bn3.num_batches_tracked',\n 'module.base_model.layer3.5.conv1.net.weight',\n 'module.base_model.layer3.5.bn1.weight',\n 'module.base_model.layer3.5.bn1.bias',\n 'module.base_model.layer3.5.bn1.running_mean',\n 'module.base_model.layer3.5.bn1.running_var',\n 'module.base_model.layer3.5.bn1.num_batches_tracked',\n 'module.base_model.layer3.5.conv2.weight',\n 'module.base_model.layer3.5.bn2.weight',\n 'module.base_model.layer3.5.bn2.bias',\n 'module.base_model.layer3.5.bn2.running_mean',\n 'module.base_model.layer3.5.bn2.running_var',\n 'module.base_model.layer3.5.bn2.num_batches_tracked',\n 'module.base_model.layer3.5.conv3.weight',\n 'module.base_model.layer3.5.bn3.weight',\n 'module.base_model.layer3.5.bn3.bias',\n 'module.base_model.layer3.5.bn3.running_mean',\n 'module.base_model.layer3.5.bn3.running_var',\n 'module.base_model.layer3.5.bn3.num_batches_tracked',\n 'module.base_model.layer4.0.conv1.net.weight',\n 'module.base_model.layer4.0.bn1.weight',\n 'module.base_model.layer4.0.bn1.bias',\n 'module.base_model.layer4.0.bn1.running_mean',\n 'module.base_model.layer4.0.bn1.running_var',\n 'module.base_model.layer4.0.bn1.num_batches_tracked',\n 'module.base_model.layer4.0.conv2.weight',\n 'module.base_model.layer4.0.bn2.weight',\n 'module.base_model.layer4.0.bn2.bias',\n 'module.base_model.layer4.0.bn2.running_mean',\n 'module.base_model.layer4.0.bn2.running_var',\n 'module.base_model.layer4.0.bn2.num_batches_tracked',\n 'module.base_model.layer4.0.conv3.weight',\n 'module.base_model.layer4.0.bn3.weight',\n 'module.base_model.layer4.0.bn3.bias',\n 'module.base_model.layer4.0.bn3.running_mean',\n 'module.base_model.layer4.0.bn3.running_var',\n 'module.base_model.layer4.0.bn3.num_batches_tracked',\n 'module.base_model.layer4.0.downsample.0.weight',\n 'module.base_model.layer4.0.downsample.1.weight',\n 'module.base_model.layer4.0.downsample.1.bias',\n 'module.base_model.layer4.0.downsample.1.running_mean',\n 'module.base_model.layer4.0.downsample.1.running_var',\n 'module.base_model.layer4.0.downsample.1.num_batches_tracked',\n 'module.base_model.layer4.1.conv1.net.weight',\n 'module.base_model.layer4.1.bn1.weight',\n 'module.base_model.layer4.1.bn1.bias',\n 'module.base_model.layer4.1.bn1.running_mean',\n 'module.base_model.layer4.1.bn1.running_var',\n 'module.base_model.layer4.1.bn1.num_batches_tracked',\n 'module.base_model.layer4.1.conv2.weight',\n 'module.base_model.layer4.1.bn2.weight',\n 'module.base_model.layer4.1.bn2.bias',\n 'module.base_model.layer4.1.bn2.running_mean',\n 'module.base_model.layer4.1.bn2.running_var',\n 'module.base_model.layer4.1.bn2.num_batches_tracked',\n 'module.base_model.layer4.1.conv3.weight',\n 'module.base_model.layer4.1.bn3.weight',\n 'module.base_model.layer4.1.bn3.bias',\n 'module.base_model.layer4.1.bn3.running_mean',\n 'module.base_model.layer4.1.bn3.running_var',\n 'module.base_model.layer4.1.bn3.num_batches_tracked',\n 'module.base_model.layer4.2.conv1.net.weight',\n 'module.base_model.layer4.2.bn1.weight',\n 'module.base_model.layer4.2.bn1.bias',\n 'module.base_model.layer4.2.bn1.running_mean',\n 'module.base_model.layer4.2.bn1.running_var',\n 'module.base_model.layer4.2.bn1.num_batches_tracked',\n 'module.base_model.layer4.2.conv2.weight',\n 'module.base_model.layer4.2.bn2.weight',\n 'module.base_model.layer4.2.bn2.bias',\n 'module.base_model.layer4.2.bn2.running_mean',\n 'module.base_model.layer4.2.bn2.running_var',\n 'module.base_model.layer4.2.bn2.num_batches_tracked',\n 'module.base_model.layer4.2.conv3.weight',\n 'module.base_model.layer4.2.bn3.weight',\n 'module.base_model.layer4.2.bn3.bias',\n 'module.base_model.layer4.2.bn3.running_mean',\n 'module.base_model.layer4.2.bn3.running_var',\n 'module.base_model.layer4.2.bn3.num_batches_tracked',\n 'module.new_fc.weight',\n 'module.new_fc.bias']"
     },
     "metadata": {},
     "execution_count": 6
    }
   ],
   "source": [
    "offline_model_keys = resnet_offline_model.state_dict().keys()\n",
    "list(offline_model_keys)"
   ]
  },
  {
   "cell_type": "code",
   "execution_count": 7,
   "metadata": {},
   "outputs": [
    {
     "output_type": "execute_result",
     "data": {
      "text/plain": "['conv1.weight',\n 'bn1.weight',\n 'bn1.bias',\n 'bn1.running_mean',\n 'bn1.running_var',\n 'bn1.num_batches_tracked',\n 'layer1.0.conv1.weight',\n 'layer1.0.bn1.weight',\n 'layer1.0.bn1.bias',\n 'layer1.0.bn1.running_mean',\n 'layer1.0.bn1.running_var',\n 'layer1.0.bn1.num_batches_tracked',\n 'layer1.0.conv2.weight',\n 'layer1.0.bn2.weight',\n 'layer1.0.bn2.bias',\n 'layer1.0.bn2.running_mean',\n 'layer1.0.bn2.running_var',\n 'layer1.0.bn2.num_batches_tracked',\n 'layer1.0.conv3.weight',\n 'layer1.0.bn3.weight',\n 'layer1.0.bn3.bias',\n 'layer1.0.bn3.running_mean',\n 'layer1.0.bn3.running_var',\n 'layer1.0.bn3.num_batches_tracked',\n 'layer1.0.downsample.0.weight',\n 'layer1.0.downsample.1.weight',\n 'layer1.0.downsample.1.bias',\n 'layer1.0.downsample.1.running_mean',\n 'layer1.0.downsample.1.running_var',\n 'layer1.0.downsample.1.num_batches_tracked',\n 'layer1.1.conv1.weight',\n 'layer1.1.bn1.weight',\n 'layer1.1.bn1.bias',\n 'layer1.1.bn1.running_mean',\n 'layer1.1.bn1.running_var',\n 'layer1.1.bn1.num_batches_tracked',\n 'layer1.1.conv2.weight',\n 'layer1.1.bn2.weight',\n 'layer1.1.bn2.bias',\n 'layer1.1.bn2.running_mean',\n 'layer1.1.bn2.running_var',\n 'layer1.1.bn2.num_batches_tracked',\n 'layer1.1.conv3.weight',\n 'layer1.1.bn3.weight',\n 'layer1.1.bn3.bias',\n 'layer1.1.bn3.running_mean',\n 'layer1.1.bn3.running_var',\n 'layer1.1.bn3.num_batches_tracked',\n 'layer1.2.conv1.weight',\n 'layer1.2.bn1.weight',\n 'layer1.2.bn1.bias',\n 'layer1.2.bn1.running_mean',\n 'layer1.2.bn1.running_var',\n 'layer1.2.bn1.num_batches_tracked',\n 'layer1.2.conv2.weight',\n 'layer1.2.bn2.weight',\n 'layer1.2.bn2.bias',\n 'layer1.2.bn2.running_mean',\n 'layer1.2.bn2.running_var',\n 'layer1.2.bn2.num_batches_tracked',\n 'layer1.2.conv3.weight',\n 'layer1.2.bn3.weight',\n 'layer1.2.bn3.bias',\n 'layer1.2.bn3.running_mean',\n 'layer1.2.bn3.running_var',\n 'layer1.2.bn3.num_batches_tracked',\n 'layer2.0.conv1.weight',\n 'layer2.0.bn1.weight',\n 'layer2.0.bn1.bias',\n 'layer2.0.bn1.running_mean',\n 'layer2.0.bn1.running_var',\n 'layer2.0.bn1.num_batches_tracked',\n 'layer2.0.conv2.weight',\n 'layer2.0.bn2.weight',\n 'layer2.0.bn2.bias',\n 'layer2.0.bn2.running_mean',\n 'layer2.0.bn2.running_var',\n 'layer2.0.bn2.num_batches_tracked',\n 'layer2.0.conv3.weight',\n 'layer2.0.bn3.weight',\n 'layer2.0.bn3.bias',\n 'layer2.0.bn3.running_mean',\n 'layer2.0.bn3.running_var',\n 'layer2.0.bn3.num_batches_tracked',\n 'layer2.0.downsample.0.weight',\n 'layer2.0.downsample.1.weight',\n 'layer2.0.downsample.1.bias',\n 'layer2.0.downsample.1.running_mean',\n 'layer2.0.downsample.1.running_var',\n 'layer2.0.downsample.1.num_batches_tracked',\n 'layer2.1.conv1.weight',\n 'layer2.1.bn1.weight',\n 'layer2.1.bn1.bias',\n 'layer2.1.bn1.running_mean',\n 'layer2.1.bn1.running_var',\n 'layer2.1.bn1.num_batches_tracked',\n 'layer2.1.conv2.weight',\n 'layer2.1.bn2.weight',\n 'layer2.1.bn2.bias',\n 'layer2.1.bn2.running_mean',\n 'layer2.1.bn2.running_var',\n 'layer2.1.bn2.num_batches_tracked',\n 'layer2.1.conv3.weight',\n 'layer2.1.bn3.weight',\n 'layer2.1.bn3.bias',\n 'layer2.1.bn3.running_mean',\n 'layer2.1.bn3.running_var',\n 'layer2.1.bn3.num_batches_tracked',\n 'layer2.2.conv1.weight',\n 'layer2.2.bn1.weight',\n 'layer2.2.bn1.bias',\n 'layer2.2.bn1.running_mean',\n 'layer2.2.bn1.running_var',\n 'layer2.2.bn1.num_batches_tracked',\n 'layer2.2.conv2.weight',\n 'layer2.2.bn2.weight',\n 'layer2.2.bn2.bias',\n 'layer2.2.bn2.running_mean',\n 'layer2.2.bn2.running_var',\n 'layer2.2.bn2.num_batches_tracked',\n 'layer2.2.conv3.weight',\n 'layer2.2.bn3.weight',\n 'layer2.2.bn3.bias',\n 'layer2.2.bn3.running_mean',\n 'layer2.2.bn3.running_var',\n 'layer2.2.bn3.num_batches_tracked',\n 'layer2.3.conv1.weight',\n 'layer2.3.bn1.weight',\n 'layer2.3.bn1.bias',\n 'layer2.3.bn1.running_mean',\n 'layer2.3.bn1.running_var',\n 'layer2.3.bn1.num_batches_tracked',\n 'layer2.3.conv2.weight',\n 'layer2.3.bn2.weight',\n 'layer2.3.bn2.bias',\n 'layer2.3.bn2.running_mean',\n 'layer2.3.bn2.running_var',\n 'layer2.3.bn2.num_batches_tracked',\n 'layer2.3.conv3.weight',\n 'layer2.3.bn3.weight',\n 'layer2.3.bn3.bias',\n 'layer2.3.bn3.running_mean',\n 'layer2.3.bn3.running_var',\n 'layer2.3.bn3.num_batches_tracked',\n 'layer3.0.conv1.weight',\n 'layer3.0.bn1.weight',\n 'layer3.0.bn1.bias',\n 'layer3.0.bn1.running_mean',\n 'layer3.0.bn1.running_var',\n 'layer3.0.bn1.num_batches_tracked',\n 'layer3.0.conv2.weight',\n 'layer3.0.bn2.weight',\n 'layer3.0.bn2.bias',\n 'layer3.0.bn2.running_mean',\n 'layer3.0.bn2.running_var',\n 'layer3.0.bn2.num_batches_tracked',\n 'layer3.0.conv3.weight',\n 'layer3.0.bn3.weight',\n 'layer3.0.bn3.bias',\n 'layer3.0.bn3.running_mean',\n 'layer3.0.bn3.running_var',\n 'layer3.0.bn3.num_batches_tracked',\n 'layer3.0.downsample.0.weight',\n 'layer3.0.downsample.1.weight',\n 'layer3.0.downsample.1.bias',\n 'layer3.0.downsample.1.running_mean',\n 'layer3.0.downsample.1.running_var',\n 'layer3.0.downsample.1.num_batches_tracked',\n 'layer3.1.conv1.weight',\n 'layer3.1.bn1.weight',\n 'layer3.1.bn1.bias',\n 'layer3.1.bn1.running_mean',\n 'layer3.1.bn1.running_var',\n 'layer3.1.bn1.num_batches_tracked',\n 'layer3.1.conv2.weight',\n 'layer3.1.bn2.weight',\n 'layer3.1.bn2.bias',\n 'layer3.1.bn2.running_mean',\n 'layer3.1.bn2.running_var',\n 'layer3.1.bn2.num_batches_tracked',\n 'layer3.1.conv3.weight',\n 'layer3.1.bn3.weight',\n 'layer3.1.bn3.bias',\n 'layer3.1.bn3.running_mean',\n 'layer3.1.bn3.running_var',\n 'layer3.1.bn3.num_batches_tracked',\n 'layer3.2.conv1.weight',\n 'layer3.2.bn1.weight',\n 'layer3.2.bn1.bias',\n 'layer3.2.bn1.running_mean',\n 'layer3.2.bn1.running_var',\n 'layer3.2.bn1.num_batches_tracked',\n 'layer3.2.conv2.weight',\n 'layer3.2.bn2.weight',\n 'layer3.2.bn2.bias',\n 'layer3.2.bn2.running_mean',\n 'layer3.2.bn2.running_var',\n 'layer3.2.bn2.num_batches_tracked',\n 'layer3.2.conv3.weight',\n 'layer3.2.bn3.weight',\n 'layer3.2.bn3.bias',\n 'layer3.2.bn3.running_mean',\n 'layer3.2.bn3.running_var',\n 'layer3.2.bn3.num_batches_tracked',\n 'layer3.3.conv1.weight',\n 'layer3.3.bn1.weight',\n 'layer3.3.bn1.bias',\n 'layer3.3.bn1.running_mean',\n 'layer3.3.bn1.running_var',\n 'layer3.3.bn1.num_batches_tracked',\n 'layer3.3.conv2.weight',\n 'layer3.3.bn2.weight',\n 'layer3.3.bn2.bias',\n 'layer3.3.bn2.running_mean',\n 'layer3.3.bn2.running_var',\n 'layer3.3.bn2.num_batches_tracked',\n 'layer3.3.conv3.weight',\n 'layer3.3.bn3.weight',\n 'layer3.3.bn3.bias',\n 'layer3.3.bn3.running_mean',\n 'layer3.3.bn3.running_var',\n 'layer3.3.bn3.num_batches_tracked',\n 'layer3.4.conv1.weight',\n 'layer3.4.bn1.weight',\n 'layer3.4.bn1.bias',\n 'layer3.4.bn1.running_mean',\n 'layer3.4.bn1.running_var',\n 'layer3.4.bn1.num_batches_tracked',\n 'layer3.4.conv2.weight',\n 'layer3.4.bn2.weight',\n 'layer3.4.bn2.bias',\n 'layer3.4.bn2.running_mean',\n 'layer3.4.bn2.running_var',\n 'layer3.4.bn2.num_batches_tracked',\n 'layer3.4.conv3.weight',\n 'layer3.4.bn3.weight',\n 'layer3.4.bn3.bias',\n 'layer3.4.bn3.running_mean',\n 'layer3.4.bn3.running_var',\n 'layer3.4.bn3.num_batches_tracked',\n 'layer3.5.conv1.weight',\n 'layer3.5.bn1.weight',\n 'layer3.5.bn1.bias',\n 'layer3.5.bn1.running_mean',\n 'layer3.5.bn1.running_var',\n 'layer3.5.bn1.num_batches_tracked',\n 'layer3.5.conv2.weight',\n 'layer3.5.bn2.weight',\n 'layer3.5.bn2.bias',\n 'layer3.5.bn2.running_mean',\n 'layer3.5.bn2.running_var',\n 'layer3.5.bn2.num_batches_tracked',\n 'layer3.5.conv3.weight',\n 'layer3.5.bn3.weight',\n 'layer3.5.bn3.bias',\n 'layer3.5.bn3.running_mean',\n 'layer3.5.bn3.running_var',\n 'layer3.5.bn3.num_batches_tracked',\n 'layer4.0.conv1.weight',\n 'layer4.0.bn1.weight',\n 'layer4.0.bn1.bias',\n 'layer4.0.bn1.running_mean',\n 'layer4.0.bn1.running_var',\n 'layer4.0.bn1.num_batches_tracked',\n 'layer4.0.conv2.weight',\n 'layer4.0.bn2.weight',\n 'layer4.0.bn2.bias',\n 'layer4.0.bn2.running_mean',\n 'layer4.0.bn2.running_var',\n 'layer4.0.bn2.num_batches_tracked',\n 'layer4.0.conv3.weight',\n 'layer4.0.bn3.weight',\n 'layer4.0.bn3.bias',\n 'layer4.0.bn3.running_mean',\n 'layer4.0.bn3.running_var',\n 'layer4.0.bn3.num_batches_tracked',\n 'layer4.0.downsample.0.weight',\n 'layer4.0.downsample.1.weight',\n 'layer4.0.downsample.1.bias',\n 'layer4.0.downsample.1.running_mean',\n 'layer4.0.downsample.1.running_var',\n 'layer4.0.downsample.1.num_batches_tracked',\n 'layer4.1.conv1.weight',\n 'layer4.1.bn1.weight',\n 'layer4.1.bn1.bias',\n 'layer4.1.bn1.running_mean',\n 'layer4.1.bn1.running_var',\n 'layer4.1.bn1.num_batches_tracked',\n 'layer4.1.conv2.weight',\n 'layer4.1.bn2.weight',\n 'layer4.1.bn2.bias',\n 'layer4.1.bn2.running_mean',\n 'layer4.1.bn2.running_var',\n 'layer4.1.bn2.num_batches_tracked',\n 'layer4.1.conv3.weight',\n 'layer4.1.bn3.weight',\n 'layer4.1.bn3.bias',\n 'layer4.1.bn3.running_mean',\n 'layer4.1.bn3.running_var',\n 'layer4.1.bn3.num_batches_tracked',\n 'layer4.2.conv1.weight',\n 'layer4.2.bn1.weight',\n 'layer4.2.bn1.bias',\n 'layer4.2.bn1.running_mean',\n 'layer4.2.bn1.running_var',\n 'layer4.2.bn1.num_batches_tracked',\n 'layer4.2.conv2.weight',\n 'layer4.2.bn2.weight',\n 'layer4.2.bn2.bias',\n 'layer4.2.bn2.running_mean',\n 'layer4.2.bn2.running_var',\n 'layer4.2.bn2.num_batches_tracked',\n 'layer4.2.conv3.weight',\n 'layer4.2.bn3.weight',\n 'layer4.2.bn3.bias',\n 'layer4.2.bn3.running_mean',\n 'layer4.2.bn3.running_var',\n 'layer4.2.bn3.num_batches_tracked',\n 'fc.weight',\n 'fc.bias']"
     },
     "metadata": {},
     "execution_count": 7
    }
   ],
   "source": [
    "online_model_keys = resnet_online_model.state_dict().keys()\n",
    "list(online_model_keys)"
   ]
  },
  {
   "cell_type": "code",
   "execution_count": 21,
   "metadata": {},
   "outputs": [],
   "source": [
    "online_keys = [k for k in online_model_keys]\n",
    "offline_keys = [k for k in offline_model_keys]\n"
   ]
  },
  {
   "cell_type": "code",
   "execution_count": 22,
   "metadata": {},
   "outputs": [],
   "source": []
  },
  {
   "cell_type": "code",
   "execution_count": 23,
   "metadata": {},
   "outputs": [],
   "source": []
  },
  {
   "cell_type": "code",
   "execution_count": 24,
   "metadata": {},
   "outputs": [],
   "source": [
    "def key_offline_to_online(key):\n",
    "    return key.replace(\"module.\", \"\").replace(\"base_model.\", \"\").replace(\"net.\", \"\").replace(\"new_\", \"\")"
   ]
  },
  {
   "cell_type": "code",
   "execution_count": 34,
   "metadata": {},
   "outputs": [],
   "source": [
    "def key_online_to_offline(key):\n",
    "    if not key.startswith(\"fc\"):\n",
    "        key = \"base_model.\" + key\n",
    "    key = \"module.\" + key\n",
    "    if 'conv1' in key and 'layer' in key:\n",
    "        key = key.replace('conv1', 'conv1.net')\n",
    "    if 'fc' in key:\n",
    "        key = key.replace('fc', 'new_fc')\n",
    "    return key"
   ]
  },
  {
   "cell_type": "code",
   "execution_count": 35,
   "metadata": {},
   "outputs": [
    {
     "output_type": "stream",
     "name": "stdout",
     "text": "\n"
    }
   ],
   "source": [
    "online_keys = [key_online_to_offline(k) for k in online_model_keys]\n",
    "offline_keys = [k for k in offline_model_keys]\n",
    "for k in offline_keys:\n",
    "    if k not in online_keys:\n",
    "        print(k)\n",
    "print()\n",
    "for k in online_keys:\n",
    "    if k not in offline_keys:\n",
    "        print(k)"
   ]
  },
  {
   "cell_type": "code",
   "execution_count": null,
   "metadata": {},
   "outputs": [],
   "source": []
  }
 ],
 "metadata": {
  "language_info": {
   "codemirror_mode": {
    "name": "ipython",
    "version": 3
   },
   "file_extension": ".py",
   "mimetype": "text/x-python",
   "name": "python",
   "nbconvert_exporter": "python",
   "pygments_lexer": "ipython3",
   "version": "3.7.6-final"
  },
  "orig_nbformat": 2,
  "kernelspec": {
   "name": "python37664bitzyyvideopytorch13condabb115137f77b4bc4887419a1dcda1a49",
   "display_name": "Python 3.7.6 64-bit ('zyy_video_pytorch1.3': conda)"
  }
 },
 "nbformat": 4,
 "nbformat_minor": 2
}