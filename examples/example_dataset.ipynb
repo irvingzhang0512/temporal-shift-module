{
 "cells": [
  {
   "cell_type": "code",
   "execution_count": null,
   "metadata": {},
   "outputs": [],
   "source": [
    "# 实现的功能：测试数据集"
   ]
  },
  {
   "cell_type": "code",
   "execution_count": null,
   "metadata": {},
   "outputs": [],
   "source": [
    "import sys\n",
    "sys.path.append(\"/ssd4/zhangyiyang/temporal-shift-module\")\n",
    "import torch\n",
    "import torchvision\n",
    "import matplotlib.pyplot as plt\n",
    "from tsm.dataset import dataset_config, TSNDataSet\n",
    "from tsm.dataset.weighted_sampler import get_weighted_sampler\n",
    "from tsm.utils.opts_utils import parser\n",
    "from tsm.dataset.transforms import GroupMultiScaleCrop, IdentityTransform, Stack, ToTorchFormatTensor"
   ]
  },
  {
   "cell_type": "code",
   "execution_count": null,
   "metadata": {},
   "outputs": [],
   "source": [
    "# 构建数据集\n",
    "\n",
    "# 设置参数\n",
    "args = parser.parse_args(['ar', 'RGB', '--use_weighted_sampler'])\n",
    "data_length = 1\n",
    "input_size = 224\n",
    "num_class, args.train_list, args.val_list, args.root_path, prefix = dataset_config.return_dataset('ar', 'RGB')\n",
    "train_augmentation = torchvision.transforms.Compose([\n",
    "    GroupMultiScaleCrop(input_size, [1, .875, .75, .66])\n",
    "])\n",
    "normalize = IdentityTransform()\n",
    "\n",
    "# sampler\n",
    "sampler = None\n",
    "if args.use_weighted_sampler:\n",
    "    sampler = get_weighted_sampler(\n",
    "        num_class,\n",
    "        args.category_weights,\n",
    "        train_file_path=args.train_list,\n",
    "        num_samples=args.batch_size*args.steps_per_epoch,\n",
    "        replacement=True,\n",
    "    )\n",
    "print(args.category_weights)\n",
    "\n",
    "# 构建loader\n",
    "train_loader = torch.utils.data.DataLoader(\n",
    "    TSNDataSet(\n",
    "        args.root_path, \n",
    "        args.train_list,\n",
    "        num_segments=args.num_segments,\n",
    "        new_length=data_length,\n",
    "        modality=args.modality,\n",
    "        image_tmpl=prefix,\n",
    "        transform=torchvision.transforms.Compose([\n",
    "            train_augmentation,\n",
    "            Stack(\n",
    "                roll=(args.arch in ['BNInception', 'InceptionV3'])),\n",
    "            ToTorchFormatTensor(\n",
    "                div=(args.arch not in ['BNInception', 'InceptionV3'])),\n",
    "            normalize,\n",
    "        ]), dense_sample=args.dense_sample),\n",
    "    batch_size=16, \n",
    "    sampler=sampler,\n",
    "    shuffle=not args.use_weighted_sampler,\n",
    "    num_workers=args.workers, pin_memory=True,\n",
    "    drop_last=True)"
   ]
  },
  {
   "cell_type": "code",
   "execution_count": null,
   "metadata": {
    "tags": [
     "outputPrepend",
     "outputPrepend",
     "outputPrepend",
     "outputPrepend",
     "outputPrepend",
     "outputPrepend",
     "outputPrepend"
    ]
   },
   "outputs": [],
   "source": [
    "# 测试数据集\n",
    "cnt = 0\n",
    "for imgs, target in train_loader:\n",
    "    # sample = imgs[0].numpy().transpose([1, 2, 0])\n",
    "    print(target)\n",
    "    # for i in range(8):\n",
    "    #     ax = plt.subplot((240+i+1))\n",
    "    #     ax.imshow(sample[:, :, i*3:(i+1)*3])\n",
    "    # break"
   ]
  },
  {
   "cell_type": "code",
   "execution_count": null,
   "metadata": {},
   "outputs": [],
   "source": [
    "# for imgs, target in train_loader:\n",
    "#     pass\n",
    "\n"
   ]
  },
  {
   "cell_type": "code",
   "execution_count": null,
   "metadata": {},
   "outputs": [],
   "source": []
  }
 ],
 "metadata": {
  "kernelspec": {
   "display_name": "Python 3.7.7 64-bit ('zyy_pytorch1.3_tsm': conda)",
   "language": "python",
   "name": "python37764bitzyypytorch13tsmconda822af611ca87409793257602a33a16f5"
  },
  "language_info": {
   "codemirror_mode": {
    "name": "ipython",
    "version": 3
   },
   "file_extension": ".py",
   "mimetype": "text/x-python",
   "name": "python",
   "nbconvert_exporter": "python",
   "pygments_lexer": "ipython3",
   "version": "3.7.7-final"
  }
 },
 "nbformat": 4,
 "nbformat_minor": 2
}